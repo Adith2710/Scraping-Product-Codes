{
 "cells": [
  {
   "cell_type": "code",
   "execution_count": 13,
   "metadata": {},
   "outputs": [],
   "source": [
    "import requests\n",
    "import numpy as np\n",
    "import pandas as pd\n",
    "from bs4 import BeautifulSoup\n",
    "import uuid\n",
    "\n",
    "\n",
    "import urllib.parse as urlparse\n",
    "from urllib.parse import parse_qs\n",
    "from urllib.parse import urlparse\n",
    "from urllib.request import urlopen\n",
    "import time\n",
    "import re"
   ]
  },
  {
   "cell_type": "code",
   "execution_count": 14,
   "metadata": {},
   "outputs": [],
   "source": [
    "my_header = {\"User-Agent\": \"Mozilla/5.0 (Windows NT 10.0; Win64; x64) AppleWebKit/537.36\"\n",
    "              + \"(KHTML, like Gecko) Chrome/86.0.4240.198 Safari/537.36\"}\n",
    "\n",
    "querystring = {\"page\":\"20\", 'product_url':'https://www.walmart.com/search/?query=watch'}\n",
    "item_url=[]\n",
    "prod_name=[]\n",
    "total_pages=int(querystring[\"page\"])\n",
    "\n",
    "\n",
    "for i in range(1,total_pages+1):\n",
    "    \n",
    "    url='https://www.walmart.com/search/?page='+ str(i) +'&ps=48&query=watches'\n",
    "    r= requests.get(url, headers= my_header)\n",
    "    price_per_page=[]\n",
    "    if r.status_code==200:\n",
    "        soup_main= BeautifulSoup(r.content, 'html')\n",
    "        #print(soup_main)\n",
    "        summary=soup_main.find('div', {'class':'search-product-result', 'id':'searchProductResult'})\n",
    "        product_list= summary.find_all('li')\n",
    "        for prod in product_list:\n",
    "            try:\n",
    "                \n",
    "                item_url.append(prod.find('a', {\"class\":\"product-title-link line-clamp line-clamp-2 truncate-title\"}).get('href'))\n",
    "            except:\n",
    "                pass\n",
    "    else:\n",
    "        print(\"Error-\",r.status_code)"
   ]
  },
  {
   "cell_type": "code",
   "execution_count": 15,
   "metadata": {},
   "outputs": [],
   "source": [
    "product_code=[u.split('/')[-1] for u in item_url]"
   ]
  },
  {
   "cell_type": "code",
   "execution_count": 31,
   "metadata": {},
   "outputs": [],
   "source": [
    "upc=[]\n",
    "item_ID=[]\n",
    "product_name=[]\n",
    "for prod_code in product_code:\n",
    "    item_url= 'https://www.walmart.com/reviews/product/'+ prod_code +'?page=2'\n",
    "    r = requests.get(item_url,headers=proxy_headers)\n",
    "\n",
    "    r.status_code\n",
    "\n",
    "    soup = BeautifulSoup(urlopen(item_url),'html.parser')\n",
    "    for val in soup.find_all(\"script\"):\n",
    "        #print(val)\n",
    "        if 'upc' in str(val):\n",
    "            val=str(val)\n",
    "            prob_dict = val.split('upc')[1]\n",
    "            UPC=prob_dict.split(',')[0]\n",
    "            UPC=UPC[3:-1]\n",
    "            upc.append(UPC)\n",
    "            prob_dict = val.split('usItemId')[1]\n",
    "            item_id=prob_dict.split(',')[0]\n",
    "            item_id=item_id[3:-1]\n",
    "            item_ID.append(item_id)\n",
    "            prob_dict = val.split('productName')[1]\n",
    "            product=prob_dict.split(',')[0]\n",
    "            product=product[3:-1]\n",
    "            product_name.append(product)\n",
    "            \n",
    "\n",
    "\n",
    "    "
   ]
  },
  {
   "cell_type": "code",
   "execution_count": 37,
   "metadata": {},
   "outputs": [],
   "source": [
    "df_dict={\"Product Name\": product_name, \"Walmart Product Code\": item_ID, \"UPC\": upc}"
   ]
  },
  {
   "cell_type": "code",
   "execution_count": 38,
   "metadata": {},
   "outputs": [
    {
     "data": {
      "text/html": [
       "<div>\n",
       "<style scoped>\n",
       "    .dataframe tbody tr th:only-of-type {\n",
       "        vertical-align: middle;\n",
       "    }\n",
       "\n",
       "    .dataframe tbody tr th {\n",
       "        vertical-align: top;\n",
       "    }\n",
       "\n",
       "    .dataframe thead th {\n",
       "        text-align: right;\n",
       "    }\n",
       "</style>\n",
       "<table border=\"1\" class=\"dataframe\">\n",
       "  <thead>\n",
       "    <tr style=\"text-align: right;\">\n",
       "      <th></th>\n",
       "      <th>Product Name</th>\n",
       "      <th>Walmart Product Code</th>\n",
       "      <th>UPC</th>\n",
       "    </tr>\n",
       "  </thead>\n",
       "  <tbody>\n",
       "    <tr>\n",
       "      <th>0</th>\n",
       "      <td>Casio Men's Classic Resin Strap Sport Watch F9...</td>\n",
       "      <td>20670078</td>\n",
       "      <td>079767246280</td>\n",
       "    </tr>\n",
       "    <tr>\n",
       "      <th>1</th>\n",
       "      <td>DZ09 Bluetooth Smart Wrist Watch With Health M...</td>\n",
       "      <td>939405652</td>\n",
       "      <td>701649348941</td>\n",
       "    </tr>\n",
       "    <tr>\n",
       "      <th>2</th>\n",
       "      <td>Classic Analog Water Resistant Watch w/ Resin ...</td>\n",
       "      <td>45050246</td>\n",
       "      <td>079767234072</td>\n",
       "    </tr>\n",
       "    <tr>\n",
       "      <th>3</th>\n",
       "      <td>iTouch Sport Smartwatch Fitness Tracker Heart ...</td>\n",
       "      <td>173019570</td>\n",
       "      <td>846692617504</td>\n",
       "    </tr>\n",
       "    <tr>\n",
       "      <th>4</th>\n",
       "      <td>Casio Men's Classic Digital Illuminator Watch ...</td>\n",
       "      <td>894302</td>\n",
       "      <td>079767541255</td>\n",
       "    </tr>\n",
       "  </tbody>\n",
       "</table>\n",
       "</div>"
      ],
      "text/plain": [
       "                                        Product Name Walmart Product Code  \\\n",
       "0  Casio Men's Classic Resin Strap Sport Watch F9...             20670078   \n",
       "1  DZ09 Bluetooth Smart Wrist Watch With Health M...            939405652   \n",
       "2  Classic Analog Water Resistant Watch w/ Resin ...             45050246   \n",
       "3  iTouch Sport Smartwatch Fitness Tracker Heart ...            173019570   \n",
       "4  Casio Men's Classic Digital Illuminator Watch ...               894302   \n",
       "\n",
       "            UPC  \n",
       "0  079767246280  \n",
       "1  701649348941  \n",
       "2  079767234072  \n",
       "3  846692617504  \n",
       "4  079767541255  "
      ]
     },
     "execution_count": 38,
     "metadata": {},
     "output_type": "execute_result"
    }
   ],
   "source": [
    "df=pd.DataFrame(df_dict)\n",
    "df.head()"
   ]
  },
  {
   "cell_type": "code",
   "execution_count": 40,
   "metadata": {},
   "outputs": [],
   "source": [
    "df.to_csv(\"UPCs_of_Walmart_Watches.csv\")"
   ]
  },
  {
   "cell_type": "code",
   "execution_count": null,
   "metadata": {},
   "outputs": [],
   "source": []
  }
 ],
 "metadata": {
  "kernelspec": {
   "display_name": "Python 3",
   "language": "python",
   "name": "python3"
  },
  "language_info": {
   "codemirror_mode": {
    "name": "ipython",
    "version": 3
   },
   "file_extension": ".py",
   "mimetype": "text/x-python",
   "name": "python",
   "nbconvert_exporter": "python",
   "pygments_lexer": "ipython3",
   "version": "3.8.3"
  }
 },
 "nbformat": 4,
 "nbformat_minor": 4
}
